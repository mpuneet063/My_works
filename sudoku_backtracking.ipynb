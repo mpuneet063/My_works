{
 "cells": [
  {
   "cell_type": "markdown",
   "id": "ac26eea2",
   "metadata": {},
   "source": [
    "### SUDOKU BY BACKTRACKING ALGORITHM"
   ]
  },
  {
   "cell_type": "markdown",
   "id": "a3e428f9",
   "metadata": {},
   "source": [
    "#### BACKTRACKING ALGORITHM\n",
    "1. Picks an empty space\n",
    "2. tries any number\n",
    "3. finds a suitable number (according to condition)\n",
    "4. moves to the next empty space and repeats\n",
    "5. if it comes to a point where a suitable number can't be found, it backtracks to the previous step and finds another number that fits before moving on.\n",
    "6. It keeps on doing it until the solution is found and thus it solves the suitable"
   ]
  },
  {
   "cell_type": "code",
   "execution_count": null,
   "id": "5f4b7683",
   "metadata": {},
   "outputs": [
    {
     "data": {
      "text/plain": [
       "[[7, 8, 0, 4, 0, 0, 1, 2, 0],\n",
       " [6, 0, 0, 0, 7, 5, 0, 0, 9],\n",
       " [0, 0, 0, 6, 0, 1, 0, 7, 8],\n",
       " [0, 0, 7, 0, 4, 0, 2, 6, 0],\n",
       " [0, 0, 1, 0, 5, 0, 9, 3, 0],\n",
       " [9, 0, 4, 0, 6, 0, 0, 0, 5],\n",
       " [0, 7, 0, 3, 0, 0, 0, 1, 2],\n",
       " [1, 2, 0, 0, 0, 7, 4, 0, 0],\n",
       " [0, 4, 9, 2, 0, 6, 0, 0, 7]]"
      ]
     },
     "execution_count": 1,
     "metadata": {},
     "output_type": "execute_result"
    }
   ],
   "source": [
    "class NumGrid:\n",
    "\n",
    "    board = [\n",
    "            [7,8,0,4,0,0,1,2,0],\n",
    "            [6,0,0,0,7,5,0,0,9],\n",
    "            [0,0,0,6,0,1,0,7,8],\n",
    "            [0,0,7,0,4,0,2,6,0],\n",
    "            [0,0,1,0,5,0,9,3,0],\n",
    "            [9,0,4,0,6,0,0,0,5],\n",
    "            [0,7,0,3,0,0,0,1,2],\n",
    "            [1,2,0,0,0,7,4,0,0],\n",
    "            [0,4,9,2,0,6,0,0,7]\n",
    "            ]\n",
    "\n",
    "board"
   ]
  },
  {
   "cell_type": "code",
   "execution_count": 11,
   "id": "1a843977",
   "metadata": {},
   "outputs": [],
   "source": [
    "def solve(b):\n",
    "    #algorithm uses recursion i.e. the function is called in itself\n",
    "    find = find_empty(b)\n",
    "    if not find:\n",
    "        return True\n",
    "    else:\n",
    "        row, col = find\n",
    "    \n",
    "    for i in range(1,10):\n",
    "        if checkValid(b,i, (row, col)):\n",
    "            b[row][col] = i \n",
    "\n",
    "            if solve(b):\n",
    "                return True #recalling the function in itself\n",
    "            \n",
    "        b[row][col] = 0\n",
    "\n",
    "    return False\n",
    "    "
   ]
  },
  {
   "cell_type": "code",
   "execution_count": 7,
   "id": "f077f0d8",
   "metadata": {},
   "outputs": [],
   "source": [
    "def checkValid(b, num, pos):\n",
    "    #checking if only the number that we have inserted is there and no other number or if the same number is already there\n",
    "    #check row\n",
    "    for i in range(len(b[0])):\n",
    "        if b[pos[0]][i] == num and pos[1] != i:\n",
    "            return False\n",
    "        \n",
    "    #check column\n",
    "    for i in range(len(b)):\n",
    "        if b[i][pos[1]] == num and pos[0] != i:\n",
    "            return False\n",
    "\n",
    "    #check block\n",
    "    block_x = pos[1]//3 #will give either 0, 1, 2 which means left, centre, right respectively\n",
    "    block_y = pos[0]//3 #will give either 0, 1, 2 which means up, centre, down respectively\n",
    "    for i in range(block_y*3, block_y*3 + 3):\n",
    "        #multiplying by 3 means that if we multiply 3 to index 2, it will take us to the value at index 6 in the board list\n",
    "        for j in range(block_x*3, block_x*3 +3):\n",
    "            if b[i][j] == num and (i,j) != pos:\n",
    "                return False\n",
    "            \n",
    "    return True #returns true if no false value was found"
   ]
  },
  {
   "cell_type": "code",
   "execution_count": 8,
   "id": "0ea9f2d8",
   "metadata": {},
   "outputs": [
    {
     "name": "stdout",
     "output_type": "stream",
     "text": [
      "7 8 0 |4 0 0 |1 2 0\n",
      "6 0 0 |0 7 5 |0 0 9\n",
      "0 0 0 |6 0 1 |0 7 8\n",
      "--------------------\n",
      "0 0 7 |0 4 0 |2 6 0\n",
      "0 0 1 |0 5 0 |9 3 0\n",
      "9 0 4 |0 6 0 |0 0 5\n",
      "--------------------\n",
      "0 7 0 |3 0 0 |0 1 2\n",
      "1 2 0 |0 0 7 |4 0 0\n",
      "0 4 9 |2 0 6 |0 0 7\n"
     ]
    }
   ],
   "source": [
    "def print_board(b):\n",
    "    for i in range(len(b)):\n",
    "        if i%3 == 0 and i != 0:\n",
    "            print(\"--------------------\")  # a dashed line after every row\n",
    "        for j in range(len(b[0])):\n",
    "            if j%3 == 0 and j != 0:\n",
    "                print(\"|\", end = '') # a | line after every three column except the first one. end is for the next column (so that a new line doesn't start)\n",
    "\n",
    "            if j == 8:\n",
    "                print(b[i][j])\n",
    "            else:\n",
    "                print(str(b[i][j]) + \" \", end='')\n",
    "\n",
    "print_board(board)"
   ]
  },
  {
   "cell_type": "code",
   "execution_count": 9,
   "id": "3967b76d",
   "metadata": {},
   "outputs": [],
   "source": [
    "def find_empty(b):\n",
    "    for i in range(len(b)):\n",
    "        for j in range(len(b[0])):\n",
    "            if b[i][j] == 0:\n",
    "                return (i,j) #row, column\n",
    "\n",
    "    return None\n"
   ]
  },
  {
   "cell_type": "code",
   "execution_count": 16,
   "id": "ac774bd7",
   "metadata": {},
   "outputs": [
    {
     "name": "stdout",
     "output_type": "stream",
     "text": [
      "7 8 5 |4 3 9 |1 2 6\n",
      "6 1 2 |8 7 5 |3 4 9\n",
      "4 9 3 |6 2 1 |5 7 8\n",
      "--------------------\n",
      "8 5 7 |9 4 3 |2 6 1\n",
      "2 6 1 |7 5 8 |9 3 4\n",
      "9 3 4 |1 6 2 |7 8 5\n",
      "--------------------\n",
      "5 7 8 |3 9 4 |6 1 2\n",
      "1 2 6 |5 8 7 |4 9 3\n",
      "3 4 9 |2 1 6 |8 5 7\n"
     ]
    }
   ],
   "source": [
    "solve(board)\n",
    "print_board(board)"
   ]
  },
  {
   "cell_type": "markdown",
   "id": "4f2bf7f8",
   "metadata": {},
   "source": [
    "#### Making GUI"
   ]
  },
  {
   "cell_type": "code",
   "execution_count": null,
   "id": "9113df93",
   "metadata": {},
   "outputs": [],
   "source": []
  }
 ],
 "metadata": {
  "kernelspec": {
   "display_name": "Python 3",
   "language": "python",
   "name": "python3"
  },
  "language_info": {
   "codemirror_mode": {
    "name": "ipython",
    "version": 3
   },
   "file_extension": ".py",
   "mimetype": "text/x-python",
   "name": "python",
   "nbconvert_exporter": "python",
   "pygments_lexer": "ipython3",
   "version": "3.13.3"
  }
 },
 "nbformat": 4,
 "nbformat_minor": 5
}
